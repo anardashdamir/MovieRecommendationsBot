{
 "cells": [
  {
   "cell_type": "code",
   "execution_count": 32,
   "outputs": [],
   "source": [
    "import pandas as pd\n",
    "import numpy as np\n",
    "from sklearn.feature_extraction.text import CountVectorizer\n",
    "from sklearn.metrics.pairwise import cosine_similarity\n",
    "\n",
    "pd.set_option('display.max_rows', None)\n",
    "pd.set_option('display.max_columns', None)\n",
    "pd.set_option('display.width', 1000)"
   ],
   "metadata": {
    "collapsed": false,
    "pycharm": {
     "name": "#%%\n"
    }
   }
  },
  {
   "cell_type": "code",
   "execution_count": 2,
   "outputs": [
    {
     "data": {
      "text/plain": "  Unnamed: 0      id                                title release_date                                             genres original_language  vote_average  vote_count  popularity                                           overview       budget                               production_companies       revenue  runtime                                  tagline\n0          0  385687                               Fast X   2023-05-17                    ['Action', 'Crime', 'Thriller']           English           7.4      1347.0    8363.473  Over many missions and against impossible odds...  340000000.0  ['Universal Pictures', 'Original Film', 'One R...  6.520000e+08    142.0              The end of the road begins.\n1          1  603692                 John Wick: Chapter 4   2023-03-22                    ['Action', 'Thriller', 'Crime']           English           7.9      2896.0    4210.313  With the price on his head ever increasing, Jo...   90000000.0  ['Thunder Road', '87Eleven', 'Summit Entertain...  4.317692e+08    170.0                No way back, one way out.\n2          2  502356          The Super Mario Bros. Movie   2023-04-05  ['Animation', 'Family', 'Adventure', 'Fantasy'...           English           7.8      4628.0    3394.458  While working underground to fix a water main,...  100000000.0  ['Universal Pictures', 'Illumination', 'Ninten...  1.308767e+09     92.0                                      NaN\n3          3  569094  Spider-Man: Across the Spider-Verse   2023-05-31  ['Action', 'Adventure', 'Animation', 'Science ...           English           8.8      1160.0    2859.047  After reuniting with Gwen Stacy, Brooklyn’s fu...  100000000.0  ['Columbia Pictures', 'Sony Pictures Animation...  3.135222e+08    140.0  It's how you wear the mask that matters\n4          4  536437                             Hypnotic   2023-05-11         ['Mystery', 'Thriller', 'Science Fiction']           English           6.5       154.0    2654.854  A detective becomes entangled in a mystery inv...   70000000.0  ['Studio 8', 'Solstice Productions', 'Ingeniou...  0.000000e+00     94.0                  Control is an illusion.",
      "text/html": "<div>\n<style scoped>\n    .dataframe tbody tr th:only-of-type {\n        vertical-align: middle;\n    }\n\n    .dataframe tbody tr th {\n        vertical-align: top;\n    }\n\n    .dataframe thead th {\n        text-align: right;\n    }\n</style>\n<table border=\"1\" class=\"dataframe\">\n  <thead>\n    <tr style=\"text-align: right;\">\n      <th></th>\n      <th>Unnamed: 0</th>\n      <th>id</th>\n      <th>title</th>\n      <th>release_date</th>\n      <th>genres</th>\n      <th>original_language</th>\n      <th>vote_average</th>\n      <th>vote_count</th>\n      <th>popularity</th>\n      <th>overview</th>\n      <th>budget</th>\n      <th>production_companies</th>\n      <th>revenue</th>\n      <th>runtime</th>\n      <th>tagline</th>\n    </tr>\n  </thead>\n  <tbody>\n    <tr>\n      <th>0</th>\n      <td>0</td>\n      <td>385687</td>\n      <td>Fast X</td>\n      <td>2023-05-17</td>\n      <td>['Action', 'Crime', 'Thriller']</td>\n      <td>English</td>\n      <td>7.4</td>\n      <td>1347.0</td>\n      <td>8363.473</td>\n      <td>Over many missions and against impossible odds...</td>\n      <td>340000000.0</td>\n      <td>['Universal Pictures', 'Original Film', 'One R...</td>\n      <td>6.520000e+08</td>\n      <td>142.0</td>\n      <td>The end of the road begins.</td>\n    </tr>\n    <tr>\n      <th>1</th>\n      <td>1</td>\n      <td>603692</td>\n      <td>John Wick: Chapter 4</td>\n      <td>2023-03-22</td>\n      <td>['Action', 'Thriller', 'Crime']</td>\n      <td>English</td>\n      <td>7.9</td>\n      <td>2896.0</td>\n      <td>4210.313</td>\n      <td>With the price on his head ever increasing, Jo...</td>\n      <td>90000000.0</td>\n      <td>['Thunder Road', '87Eleven', 'Summit Entertain...</td>\n      <td>4.317692e+08</td>\n      <td>170.0</td>\n      <td>No way back, one way out.</td>\n    </tr>\n    <tr>\n      <th>2</th>\n      <td>2</td>\n      <td>502356</td>\n      <td>The Super Mario Bros. Movie</td>\n      <td>2023-04-05</td>\n      <td>['Animation', 'Family', 'Adventure', 'Fantasy'...</td>\n      <td>English</td>\n      <td>7.8</td>\n      <td>4628.0</td>\n      <td>3394.458</td>\n      <td>While working underground to fix a water main,...</td>\n      <td>100000000.0</td>\n      <td>['Universal Pictures', 'Illumination', 'Ninten...</td>\n      <td>1.308767e+09</td>\n      <td>92.0</td>\n      <td>NaN</td>\n    </tr>\n    <tr>\n      <th>3</th>\n      <td>3</td>\n      <td>569094</td>\n      <td>Spider-Man: Across the Spider-Verse</td>\n      <td>2023-05-31</td>\n      <td>['Action', 'Adventure', 'Animation', 'Science ...</td>\n      <td>English</td>\n      <td>8.8</td>\n      <td>1160.0</td>\n      <td>2859.047</td>\n      <td>After reuniting with Gwen Stacy, Brooklyn’s fu...</td>\n      <td>100000000.0</td>\n      <td>['Columbia Pictures', 'Sony Pictures Animation...</td>\n      <td>3.135222e+08</td>\n      <td>140.0</td>\n      <td>It's how you wear the mask that matters</td>\n    </tr>\n    <tr>\n      <th>4</th>\n      <td>4</td>\n      <td>536437</td>\n      <td>Hypnotic</td>\n      <td>2023-05-11</td>\n      <td>['Mystery', 'Thriller', 'Science Fiction']</td>\n      <td>English</td>\n      <td>6.5</td>\n      <td>154.0</td>\n      <td>2654.854</td>\n      <td>A detective becomes entangled in a mystery inv...</td>\n      <td>70000000.0</td>\n      <td>['Studio 8', 'Solstice Productions', 'Ingeniou...</td>\n      <td>0.000000e+00</td>\n      <td>94.0</td>\n      <td>Control is an illusion.</td>\n    </tr>\n  </tbody>\n</table>\n</div>"
     },
     "execution_count": 2,
     "metadata": {},
     "output_type": "execute_result"
    }
   ],
   "source": [
    "data = pd.read_csv(r'..\\top_1000_popular_movies_tmdb.csv', engine='python')\n",
    "data.head()"
   ],
   "metadata": {
    "collapsed": false,
    "pycharm": {
     "name": "#%%\n"
    }
   }
  },
  {
   "cell_type": "code",
   "execution_count": 3,
   "outputs": [
    {
     "name": "stdout",
     "output_type": "stream",
     "text": [
      "<class 'pandas.core.frame.DataFrame'>\n",
      "RangeIndex: 10001 entries, 0 to 10000\n",
      "Data columns (total 15 columns):\n",
      " #   Column                Non-Null Count  Dtype  \n",
      "---  ------                --------------  -----  \n",
      " 0   Unnamed: 0            10001 non-null  object \n",
      " 1   id                    10001 non-null  int64  \n",
      " 2   title                 10001 non-null  object \n",
      " 3   release_date          9978 non-null   object \n",
      " 4   genres                10001 non-null  object \n",
      " 5   original_language     10000 non-null  object \n",
      " 6   vote_average          10000 non-null  float64\n",
      " 7   vote_count            10000 non-null  float64\n",
      " 8   popularity            10000 non-null  float64\n",
      " 9   overview              9924 non-null   object \n",
      " 10  budget                9999 non-null   float64\n",
      " 11  production_companies  9999 non-null   object \n",
      " 12  revenue               9999 non-null   float64\n",
      " 13  runtime               9999 non-null   float64\n",
      " 14  tagline               7383 non-null   object \n",
      "dtypes: float64(6), int64(1), object(8)\n",
      "memory usage: 1.1+ MB\n"
     ]
    }
   ],
   "source": [
    "data.info()"
   ],
   "metadata": {
    "collapsed": false,
    "pycharm": {
     "name": "#%%\n"
    }
   }
  },
  {
   "cell_type": "code",
   "execution_count": 4,
   "outputs": [
    {
     "data": {
      "text/plain": "                 id  vote_average    vote_count    popularity        budget       revenue      runtime\ncount  1.000100e+04  10000.000000  10000.000000  10000.000000  9.999000e+03  9.999000e+03  9999.000000\nmean   3.001465e+05      6.319090   1558.294800     33.542340  1.993800e+07  6.084337e+07   100.809581\nstd    3.379901e+05      1.460605   2887.861217    126.495621  3.870582e+07  1.553073e+08    27.850165\nmin    0.000000e+00      0.000000      0.000000     12.297000  0.000000e+00  0.000000e+00     0.000000\n25%    1.150400e+04      5.900000    143.000000     14.599000  0.000000e+00  0.000000e+00    90.000000\n50%    1.184060e+05      6.600000    519.000000     18.582500  1.250000e+06  2.133452e+06   100.000000\n75%    5.379150e+05      7.100000   1584.000000     28.014500  2.300000e+07  5.106230e+07   115.000000\nmax    1.136631e+06     10.000000  33822.000000   8363.473000  4.600000e+08  2.923706e+09   366.000000",
      "text/html": "<div>\n<style scoped>\n    .dataframe tbody tr th:only-of-type {\n        vertical-align: middle;\n    }\n\n    .dataframe tbody tr th {\n        vertical-align: top;\n    }\n\n    .dataframe thead th {\n        text-align: right;\n    }\n</style>\n<table border=\"1\" class=\"dataframe\">\n  <thead>\n    <tr style=\"text-align: right;\">\n      <th></th>\n      <th>id</th>\n      <th>vote_average</th>\n      <th>vote_count</th>\n      <th>popularity</th>\n      <th>budget</th>\n      <th>revenue</th>\n      <th>runtime</th>\n    </tr>\n  </thead>\n  <tbody>\n    <tr>\n      <th>count</th>\n      <td>1.000100e+04</td>\n      <td>10000.000000</td>\n      <td>10000.000000</td>\n      <td>10000.000000</td>\n      <td>9.999000e+03</td>\n      <td>9.999000e+03</td>\n      <td>9999.000000</td>\n    </tr>\n    <tr>\n      <th>mean</th>\n      <td>3.001465e+05</td>\n      <td>6.319090</td>\n      <td>1558.294800</td>\n      <td>33.542340</td>\n      <td>1.993800e+07</td>\n      <td>6.084337e+07</td>\n      <td>100.809581</td>\n    </tr>\n    <tr>\n      <th>std</th>\n      <td>3.379901e+05</td>\n      <td>1.460605</td>\n      <td>2887.861217</td>\n      <td>126.495621</td>\n      <td>3.870582e+07</td>\n      <td>1.553073e+08</td>\n      <td>27.850165</td>\n    </tr>\n    <tr>\n      <th>min</th>\n      <td>0.000000e+00</td>\n      <td>0.000000</td>\n      <td>0.000000</td>\n      <td>12.297000</td>\n      <td>0.000000e+00</td>\n      <td>0.000000e+00</td>\n      <td>0.000000</td>\n    </tr>\n    <tr>\n      <th>25%</th>\n      <td>1.150400e+04</td>\n      <td>5.900000</td>\n      <td>143.000000</td>\n      <td>14.599000</td>\n      <td>0.000000e+00</td>\n      <td>0.000000e+00</td>\n      <td>90.000000</td>\n    </tr>\n    <tr>\n      <th>50%</th>\n      <td>1.184060e+05</td>\n      <td>6.600000</td>\n      <td>519.000000</td>\n      <td>18.582500</td>\n      <td>1.250000e+06</td>\n      <td>2.133452e+06</td>\n      <td>100.000000</td>\n    </tr>\n    <tr>\n      <th>75%</th>\n      <td>5.379150e+05</td>\n      <td>7.100000</td>\n      <td>1584.000000</td>\n      <td>28.014500</td>\n      <td>2.300000e+07</td>\n      <td>5.106230e+07</td>\n      <td>115.000000</td>\n    </tr>\n    <tr>\n      <th>max</th>\n      <td>1.136631e+06</td>\n      <td>10.000000</td>\n      <td>33822.000000</td>\n      <td>8363.473000</td>\n      <td>4.600000e+08</td>\n      <td>2.923706e+09</td>\n      <td>366.000000</td>\n    </tr>\n  </tbody>\n</table>\n</div>"
     },
     "execution_count": 4,
     "metadata": {},
     "output_type": "execute_result"
    }
   ],
   "source": [
    "data.describe()"
   ],
   "metadata": {
    "collapsed": false,
    "pycharm": {
     "name": "#%%\n"
    }
   }
  },
  {
   "cell_type": "code",
   "execution_count": 5,
   "outputs": [
    {
     "data": {
      "text/plain": "       id                                title release_date                                             genres original_language  vote_average  vote_count  popularity                                           overview       budget                               production_companies       revenue  runtime                                  tagline\n0  385687                               Fast X   2023-05-17                    ['Action', 'Crime', 'Thriller']           English           7.4      1347.0    8363.473  Over many missions and against impossible odds...  340000000.0  ['Universal Pictures', 'Original Film', 'One R...  6.520000e+08    142.0              The end of the road begins.\n1  603692                 John Wick: Chapter 4   2023-03-22                    ['Action', 'Thriller', 'Crime']           English           7.9      2896.0    4210.313  With the price on his head ever increasing, Jo...   90000000.0  ['Thunder Road', '87Eleven', 'Summit Entertain...  4.317692e+08    170.0                No way back, one way out.\n2  502356          The Super Mario Bros. Movie   2023-04-05  ['Animation', 'Family', 'Adventure', 'Fantasy'...           English           7.8      4628.0    3394.458  While working underground to fix a water main,...  100000000.0  ['Universal Pictures', 'Illumination', 'Ninten...  1.308767e+09     92.0                                      NaN\n3  569094  Spider-Man: Across the Spider-Verse   2023-05-31  ['Action', 'Adventure', 'Animation', 'Science ...           English           8.8      1160.0    2859.047  After reuniting with Gwen Stacy, Brooklyn’s fu...  100000000.0  ['Columbia Pictures', 'Sony Pictures Animation...  3.135222e+08    140.0  It's how you wear the mask that matters\n4  536437                             Hypnotic   2023-05-11         ['Mystery', 'Thriller', 'Science Fiction']           English           6.5       154.0    2654.854  A detective becomes entangled in a mystery inv...   70000000.0  ['Studio 8', 'Solstice Productions', 'Ingeniou...  0.000000e+00     94.0                  Control is an illusion.",
      "text/html": "<div>\n<style scoped>\n    .dataframe tbody tr th:only-of-type {\n        vertical-align: middle;\n    }\n\n    .dataframe tbody tr th {\n        vertical-align: top;\n    }\n\n    .dataframe thead th {\n        text-align: right;\n    }\n</style>\n<table border=\"1\" class=\"dataframe\">\n  <thead>\n    <tr style=\"text-align: right;\">\n      <th></th>\n      <th>id</th>\n      <th>title</th>\n      <th>release_date</th>\n      <th>genres</th>\n      <th>original_language</th>\n      <th>vote_average</th>\n      <th>vote_count</th>\n      <th>popularity</th>\n      <th>overview</th>\n      <th>budget</th>\n      <th>production_companies</th>\n      <th>revenue</th>\n      <th>runtime</th>\n      <th>tagline</th>\n    </tr>\n  </thead>\n  <tbody>\n    <tr>\n      <th>0</th>\n      <td>385687</td>\n      <td>Fast X</td>\n      <td>2023-05-17</td>\n      <td>['Action', 'Crime', 'Thriller']</td>\n      <td>English</td>\n      <td>7.4</td>\n      <td>1347.0</td>\n      <td>8363.473</td>\n      <td>Over many missions and against impossible odds...</td>\n      <td>340000000.0</td>\n      <td>['Universal Pictures', 'Original Film', 'One R...</td>\n      <td>6.520000e+08</td>\n      <td>142.0</td>\n      <td>The end of the road begins.</td>\n    </tr>\n    <tr>\n      <th>1</th>\n      <td>603692</td>\n      <td>John Wick: Chapter 4</td>\n      <td>2023-03-22</td>\n      <td>['Action', 'Thriller', 'Crime']</td>\n      <td>English</td>\n      <td>7.9</td>\n      <td>2896.0</td>\n      <td>4210.313</td>\n      <td>With the price on his head ever increasing, Jo...</td>\n      <td>90000000.0</td>\n      <td>['Thunder Road', '87Eleven', 'Summit Entertain...</td>\n      <td>4.317692e+08</td>\n      <td>170.0</td>\n      <td>No way back, one way out.</td>\n    </tr>\n    <tr>\n      <th>2</th>\n      <td>502356</td>\n      <td>The Super Mario Bros. Movie</td>\n      <td>2023-04-05</td>\n      <td>['Animation', 'Family', 'Adventure', 'Fantasy'...</td>\n      <td>English</td>\n      <td>7.8</td>\n      <td>4628.0</td>\n      <td>3394.458</td>\n      <td>While working underground to fix a water main,...</td>\n      <td>100000000.0</td>\n      <td>['Universal Pictures', 'Illumination', 'Ninten...</td>\n      <td>1.308767e+09</td>\n      <td>92.0</td>\n      <td>NaN</td>\n    </tr>\n    <tr>\n      <th>3</th>\n      <td>569094</td>\n      <td>Spider-Man: Across the Spider-Verse</td>\n      <td>2023-05-31</td>\n      <td>['Action', 'Adventure', 'Animation', 'Science ...</td>\n      <td>English</td>\n      <td>8.8</td>\n      <td>1160.0</td>\n      <td>2859.047</td>\n      <td>After reuniting with Gwen Stacy, Brooklyn’s fu...</td>\n      <td>100000000.0</td>\n      <td>['Columbia Pictures', 'Sony Pictures Animation...</td>\n      <td>3.135222e+08</td>\n      <td>140.0</td>\n      <td>It's how you wear the mask that matters</td>\n    </tr>\n    <tr>\n      <th>4</th>\n      <td>536437</td>\n      <td>Hypnotic</td>\n      <td>2023-05-11</td>\n      <td>['Mystery', 'Thriller', 'Science Fiction']</td>\n      <td>English</td>\n      <td>6.5</td>\n      <td>154.0</td>\n      <td>2654.854</td>\n      <td>A detective becomes entangled in a mystery inv...</td>\n      <td>70000000.0</td>\n      <td>['Studio 8', 'Solstice Productions', 'Ingeniou...</td>\n      <td>0.000000e+00</td>\n      <td>94.0</td>\n      <td>Control is an illusion.</td>\n    </tr>\n  </tbody>\n</table>\n</div>"
     },
     "execution_count": 5,
     "metadata": {},
     "output_type": "execute_result"
    }
   ],
   "source": [
    "data = data.iloc[:, 1:]\n",
    "data.head()"
   ],
   "metadata": {
    "collapsed": false,
    "pycharm": {
     "name": "#%%\n"
    }
   }
  },
  {
   "cell_type": "code",
   "execution_count": 6,
   "outputs": [
    {
     "data": {
      "text/plain": "Index(['id', 'title', 'release_date', 'genres', 'original_language', 'vote_average', 'vote_count', 'popularity', 'overview', 'budget', 'production_companies', 'revenue', 'runtime', 'tagline'], dtype='object')"
     },
     "execution_count": 6,
     "metadata": {},
     "output_type": "execute_result"
    }
   ],
   "source": [
    "data.columns"
   ],
   "metadata": {
    "collapsed": false,
    "pycharm": {
     "name": "#%%\n"
    }
   }
  },
  {
   "cell_type": "code",
   "execution_count": 7,
   "outputs": [
    {
     "data": {
      "text/plain": "       id                                title                                             genres                                           overview\n0  385687                               Fast X                    ['Action', 'Crime', 'Thriller']  Over many missions and against impossible odds...\n1  603692                 John Wick: Chapter 4                    ['Action', 'Thriller', 'Crime']  With the price on his head ever increasing, Jo...\n2  502356          The Super Mario Bros. Movie  ['Animation', 'Family', 'Adventure', 'Fantasy'...  While working underground to fix a water main,...\n3  569094  Spider-Man: Across the Spider-Verse  ['Action', 'Adventure', 'Animation', 'Science ...  After reuniting with Gwen Stacy, Brooklyn’s fu...\n4  536437                             Hypnotic         ['Mystery', 'Thriller', 'Science Fiction']  A detective becomes entangled in a mystery inv...",
      "text/html": "<div>\n<style scoped>\n    .dataframe tbody tr th:only-of-type {\n        vertical-align: middle;\n    }\n\n    .dataframe tbody tr th {\n        vertical-align: top;\n    }\n\n    .dataframe thead th {\n        text-align: right;\n    }\n</style>\n<table border=\"1\" class=\"dataframe\">\n  <thead>\n    <tr style=\"text-align: right;\">\n      <th></th>\n      <th>id</th>\n      <th>title</th>\n      <th>genres</th>\n      <th>overview</th>\n    </tr>\n  </thead>\n  <tbody>\n    <tr>\n      <th>0</th>\n      <td>385687</td>\n      <td>Fast X</td>\n      <td>['Action', 'Crime', 'Thriller']</td>\n      <td>Over many missions and against impossible odds...</td>\n    </tr>\n    <tr>\n      <th>1</th>\n      <td>603692</td>\n      <td>John Wick: Chapter 4</td>\n      <td>['Action', 'Thriller', 'Crime']</td>\n      <td>With the price on his head ever increasing, Jo...</td>\n    </tr>\n    <tr>\n      <th>2</th>\n      <td>502356</td>\n      <td>The Super Mario Bros. Movie</td>\n      <td>['Animation', 'Family', 'Adventure', 'Fantasy'...</td>\n      <td>While working underground to fix a water main,...</td>\n    </tr>\n    <tr>\n      <th>3</th>\n      <td>569094</td>\n      <td>Spider-Man: Across the Spider-Verse</td>\n      <td>['Action', 'Adventure', 'Animation', 'Science ...</td>\n      <td>After reuniting with Gwen Stacy, Brooklyn’s fu...</td>\n    </tr>\n    <tr>\n      <th>4</th>\n      <td>536437</td>\n      <td>Hypnotic</td>\n      <td>['Mystery', 'Thriller', 'Science Fiction']</td>\n      <td>A detective becomes entangled in a mystery inv...</td>\n    </tr>\n  </tbody>\n</table>\n</div>"
     },
     "execution_count": 7,
     "metadata": {},
     "output_type": "execute_result"
    }
   ],
   "source": [
    "movies = data[['id', 'title', 'genres', 'overview']]\n",
    "movies.head()"
   ],
   "metadata": {
    "collapsed": false,
    "pycharm": {
     "name": "#%%\n"
    }
   }
  },
  {
   "cell_type": "code",
   "execution_count": 8,
   "outputs": [
    {
     "data": {
      "text/plain": "['Action', 'Crime', 'Thriller']"
     },
     "execution_count": 8,
     "metadata": {},
     "output_type": "execute_result"
    }
   ],
   "source": [
    "eval(movies.genres[0])"
   ],
   "metadata": {
    "collapsed": false,
    "pycharm": {
     "name": "#%%\n"
    }
   }
  },
  {
   "cell_type": "code",
   "execution_count": 9,
   "outputs": [
    {
     "name": "stderr",
     "output_type": "stream",
     "text": [
      "C:\\Users\\Anar\\AppData\\Local\\Temp\\ipykernel_2724\\1735695304.py:1: SettingWithCopyWarning: \n",
      "A value is trying to be set on a copy of a slice from a DataFrame.\n",
      "Try using .loc[row_indexer,col_indexer] = value instead\n",
      "\n",
      "See the caveats in the documentation: https://pandas.pydata.org/pandas-docs/stable/user_guide/indexing.html#returning-a-view-versus-a-copy\n",
      "  movies['genres'] = movies['genres'].apply(lambda x: x.replace('[', '').replace(']', '').replace(\"'\", ''))\n",
      "C:\\Users\\Anar\\AppData\\Local\\Temp\\ipykernel_2724\\1735695304.py:3: SettingWithCopyWarning: \n",
      "A value is trying to be set on a copy of a slice from a DataFrame.\n",
      "Try using .loc[row_indexer,col_indexer] = value instead\n",
      "\n",
      "See the caveats in the documentation: https://pandas.pydata.org/pandas-docs/stable/user_guide/indexing.html#returning-a-view-versus-a-copy\n",
      "  movies['tags'] = movies['overview'] + movies['genres']\n"
     ]
    },
    {
     "data": {
      "text/plain": "       id                                title                                               tags\n0  385687                               Fast X  Over many missions and against impossible odds...\n1  603692                 John Wick: Chapter 4  With the price on his head ever increasing, Jo...\n2  502356          The Super Mario Bros. Movie  While working underground to fix a water main,...\n3  569094  Spider-Man: Across the Spider-Verse  After reuniting with Gwen Stacy, Brooklyn’s fu...\n4  536437                             Hypnotic  A detective becomes entangled in a mystery inv...",
      "text/html": "<div>\n<style scoped>\n    .dataframe tbody tr th:only-of-type {\n        vertical-align: middle;\n    }\n\n    .dataframe tbody tr th {\n        vertical-align: top;\n    }\n\n    .dataframe thead th {\n        text-align: right;\n    }\n</style>\n<table border=\"1\" class=\"dataframe\">\n  <thead>\n    <tr style=\"text-align: right;\">\n      <th></th>\n      <th>id</th>\n      <th>title</th>\n      <th>tags</th>\n    </tr>\n  </thead>\n  <tbody>\n    <tr>\n      <th>0</th>\n      <td>385687</td>\n      <td>Fast X</td>\n      <td>Over many missions and against impossible odds...</td>\n    </tr>\n    <tr>\n      <th>1</th>\n      <td>603692</td>\n      <td>John Wick: Chapter 4</td>\n      <td>With the price on his head ever increasing, Jo...</td>\n    </tr>\n    <tr>\n      <th>2</th>\n      <td>502356</td>\n      <td>The Super Mario Bros. Movie</td>\n      <td>While working underground to fix a water main,...</td>\n    </tr>\n    <tr>\n      <th>3</th>\n      <td>569094</td>\n      <td>Spider-Man: Across the Spider-Verse</td>\n      <td>After reuniting with Gwen Stacy, Brooklyn’s fu...</td>\n    </tr>\n    <tr>\n      <th>4</th>\n      <td>536437</td>\n      <td>Hypnotic</td>\n      <td>A detective becomes entangled in a mystery inv...</td>\n    </tr>\n  </tbody>\n</table>\n</div>"
     },
     "execution_count": 9,
     "metadata": {},
     "output_type": "execute_result"
    }
   ],
   "source": [
    "movies['genres'] = movies['genres'].apply(lambda x: x.replace('[', '').replace(']', '').replace(\"'\", ''))\n",
    "\n",
    "movies['tags'] = movies['overview'] + movies['genres']\n",
    "movies = movies.drop(columns=['overview', 'genres'])\n",
    "movies.head()"
   ],
   "metadata": {
    "collapsed": false,
    "pycharm": {
     "name": "#%%\n"
    }
   }
  },
  {
   "cell_type": "code",
   "execution_count": 10,
   "outputs": [],
   "source": [
    "cv = CountVectorizer(max_features=10000,\n",
    "                     stop_words='english')\n",
    "\n",
    "vector = cv.fit_transform(movies['tags'].values.astype(str)).toarray()"
   ],
   "metadata": {
    "collapsed": false,
    "pycharm": {
     "name": "#%%\n"
    }
   }
  },
  {
   "cell_type": "code",
   "execution_count": 11,
   "outputs": [
    {
     "data": {
      "text/plain": "array([[0, 0, 0, ..., 0, 0, 0],\n       [0, 0, 0, ..., 0, 0, 0],\n       [0, 0, 0, ..., 0, 0, 0],\n       ...,\n       [0, 0, 0, ..., 0, 0, 0],\n       [0, 0, 0, ..., 0, 0, 0],\n       [0, 0, 0, ..., 0, 0, 0]], dtype=int64)"
     },
     "execution_count": 11,
     "metadata": {},
     "output_type": "execute_result"
    }
   ],
   "source": [
    "vector"
   ],
   "metadata": {
    "collapsed": false,
    "pycharm": {
     "name": "#%%\n"
    }
   }
  },
  {
   "cell_type": "code",
   "execution_count": 12,
   "outputs": [
    {
     "data": {
      "text/plain": "array([1, 1, 1, 1, 1, 1, 2, 1, 1, 2, 1, 1, 1, 1, 1, 1, 1, 1, 1, 1],\n      dtype=int64)"
     },
     "execution_count": 12,
     "metadata": {},
     "output_type": "execute_result"
    }
   ],
   "source": [
    "vector[vector != 0][:20]"
   ],
   "metadata": {
    "collapsed": false,
    "pycharm": {
     "name": "#%%\n"
    }
   }
  },
  {
   "cell_type": "code",
   "execution_count": 13,
   "outputs": [
    {
     "name": "stderr",
     "output_type": "stream",
     "text": [
      "C:\\Users\\Anar\\PycharmProjects\\scientificProject\\env\\lib\\site-packages\\sklearn\\utils\\extmath.py:189: RuntimeWarning: invalid value encountered in matmul\n",
      "  ret = a @ b\n"
     ]
    },
    {
     "data": {
      "text/plain": "array([[1.        , 0.12555296, 0.05884899, ..., 0.04688072, 0.        ,\n        0.        ],\n       [0.12555296, 1.        , 0.03232541, ..., 0.05150262, 0.        ,\n        0.        ],\n       [0.05884899, 0.03232541, 1.        , ..., 0.        , 0.        ,\n        0.        ],\n       ...,\n       [0.05039526, 0.        , 0.10379986, ..., 0.        , 0.0745356 ,\n        0.05679618],\n       [0.10350983, 0.0379049 , 0.07106691, ..., 0.1132277 , 0.        ,\n        0.07777138],\n       [0.11065667, 0.08104409, 0.03798686, ..., 0.12104551, 0.        ,\n        0.0277137 ]])"
     },
     "execution_count": 13,
     "metadata": {},
     "output_type": "execute_result"
    }
   ],
   "source": [
    "sim = cosine_similarity(vector)\n",
    "sim[:10]"
   ],
   "metadata": {
    "collapsed": false,
    "pycharm": {
     "name": "#%%\n"
    }
   }
  },
  {
   "cell_type": "code",
   "execution_count": 16,
   "outputs": [
    {
     "data": {
      "text/plain": "array([0.05884899, 0.03232541, 1.        , 0.10379986, 0.        ])"
     },
     "execution_count": 16,
     "metadata": {},
     "output_type": "execute_result"
    }
   ],
   "source": [
    "sim[2, :5]"
   ],
   "metadata": {
    "collapsed": false,
    "pycharm": {
     "name": "#%%\n"
    }
   }
  },
  {
   "cell_type": "code",
   "execution_count": 80,
   "outputs": [
    {
     "data": {
      "text/plain": "[('Onward', 1997, 0.3892494720807615),\n ('The Ice Age Adventures of Buck Wild', 289, 0.32667930388828254),\n ('Super Mario Bros.', 1728, 0.32667930388828254),\n ('Super Mario Brothers: Great Mission to Rescue Princess Peach',\n  4724,\n  0.32566947363946486),\n ('The Dark Crystal', 7949, 0.2969078476100822)]"
     },
     "execution_count": 80,
     "metadata": {},
     "output_type": "execute_result"
    }
   ],
   "source": [
    "list_of_sim = list(enumerate(sim[2]))\n",
    "list_of_sim.sort(reverse=True, key=lambda e:e[1])\n",
    "\n",
    "recommended_5 = [tuple([movies.iloc[tpl[0]].title, *tpl]) for tpl in list_of_sim[1:6]]\n",
    "recommended_5"
   ],
   "metadata": {
    "collapsed": false,
    "pycharm": {
     "name": "#%%\n"
    }
   }
  },
  {
   "cell_type": "code",
   "execution_count": 94,
   "outputs": [
    {
     "data": {
      "text/plain": "array([[0, 0, 0, ..., 0, 0, 0]], dtype=int64)"
     },
     "execution_count": 94,
     "metadata": {},
     "output_type": "execute_result"
    }
   ],
   "source": [
    "cv_title = CountVectorizer(max_features=10000,\n",
    "                           stop_words='english')\n",
    "\n",
    "vector_title = cv_title.fit_transform(movies['title'].values.astype(str)).toarray()\n",
    "\n",
    "tr = cv_title.transform([movies['title'][1]]).toarray()\n",
    "tr"
   ],
   "metadata": {
    "collapsed": false,
    "pycharm": {
     "name": "#%%\n"
    }
   }
  },
  {
   "cell_type": "code",
   "execution_count": 95,
   "outputs": [
    {
     "name": "stderr",
     "output_type": "stream",
     "text": [
      "C:\\Users\\Anar\\PycharmProjects\\scientificProject\\env\\lib\\site-packages\\sklearn\\utils\\extmath.py:189: RuntimeWarning: invalid value encountered in matmul\n",
      "  ret = a @ b\n"
     ]
    },
    {
     "data": {
      "text/plain": "array([[1., 0., 0., ..., 0., 0., 0.],\n       [0., 1., 0., ..., 0., 0., 0.],\n       [0., 0., 1., ..., 0., 0., 0.],\n       [0., 0., 0., ..., 0., 0., 0.],\n       [0., 0., 0., ..., 0., 0., 0.]])"
     },
     "execution_count": 95,
     "metadata": {},
     "output_type": "execute_result"
    }
   ],
   "source": [
    "sim_title = cosine_similarity(vector_title)\n",
    "sim_title[:5]"
   ],
   "metadata": {
    "collapsed": false,
    "pycharm": {
     "name": "#%%\n"
    }
   }
  },
  {
   "cell_type": "code",
   "execution_count": 96,
   "outputs": [
    {
     "data": {
      "text/plain": "array([0.05884899, 0.03232541, 1.        , ..., 0.        , 0.        ,\n       0.        ])"
     },
     "execution_count": 96,
     "metadata": {},
     "output_type": "execute_result"
    }
   ],
   "source": [
    "sim[2]"
   ],
   "metadata": {
    "collapsed": false,
    "pycharm": {
     "name": "#%%\n"
    }
   }
  },
  {
   "cell_type": "code",
   "execution_count": 98,
   "outputs": [
    {
     "data": {
      "text/plain": "id                                                  502356\ntitle                          The Super Mario Bros. Movie\ntags     While working underground to fix a water main,...\nName: 2, dtype: object"
     },
     "execution_count": 98,
     "metadata": {},
     "output_type": "execute_result"
    }
   ],
   "source": [
    "movies.iloc[2]"
   ],
   "metadata": {
    "collapsed": false,
    "pycharm": {
     "name": "#%%\n"
    }
   }
  },
  {
   "cell_type": "markdown",
   "source": [
    "### Bot part"
   ],
   "metadata": {
    "collapsed": false,
    "pycharm": {
     "name": "#%% md\n"
    }
   }
  },
  {
   "cell_type": "code",
   "execution_count": 25,
   "outputs": [],
   "source": [
    "import spacy\n",
    "nlp = spacy.load('en_core_web_lg')"
   ],
   "metadata": {
    "collapsed": false,
    "pycharm": {
     "name": "#%%\n"
    }
   }
  },
  {
   "cell_type": "code",
   "execution_count": 31,
   "outputs": [
    {
     "data": {
      "text/plain": "0.629543839295777"
     },
     "execution_count": 31,
     "metadata": {},
     "output_type": "execute_result"
    }
   ],
   "source": [
    "user_inp = nlp(input())\n",
    "title = nlp(movies['title'][1])\n",
    "\n",
    "title.similarity(user_inp)"
   ],
   "metadata": {
    "collapsed": false,
    "pycharm": {
     "name": "#%%\n"
    }
   }
  },
  {
   "cell_type": "code",
   "execution_count": 39,
   "outputs": [
    {
     "name": "stdout",
     "output_type": "stream",
     "text": [
      "CPU times: total: 32 s\n",
      "Wall time: 49.1 s\n"
     ]
    }
   ],
   "source": [
    "titles =  movies['title'].apply(lambda x: nlp(x)).to_numpy()"
   ],
   "metadata": {
    "collapsed": false,
    "pycharm": {
     "name": "#%%\n"
    }
   }
  },
  {
   "cell_type": "code",
   "execution_count": 79,
   "outputs": [
    {
     "name": "stdout",
     "output_type": "stream",
     "text": [
      "CPU times: total: 46.9 ms\n",
      "Wall time: 8.22 s\n"
     ]
    },
    {
     "name": "stderr",
     "output_type": "stream",
     "text": [
      "<timed exec>:4: UserWarning: [W008] Evaluating Doc.similarity based on empty vectors.\n"
     ]
    },
    {
     "data": {
      "text/plain": "[(John Wick: Chapter 4, 0.7793602379375979),\n (Stuart Little 2, 0.7675122202342565),\n (Emmanuelle 4, 0.7669385820530642),\n (John Wick: Chapter 5, 0.765838400738984),\n (Schoolmistress 4, 0.7589702414646425)]"
     },
     "execution_count": 79,
     "metadata": {},
     "output_type": "execute_result"
    }
   ],
   "source": [
    "%%time\n",
    "\n",
    "user_inp = nlp(input())\n",
    "\n",
    "def select_title(user_inp):\n",
    "    similar_names = [(title,title.similarity(user_inp)) for title in titles]\n",
    "    similar_names.sort(reverse=True, key=lambda e:e[1])\n",
    "\n",
    "    return similar_names[:5]\n",
    "\n",
    "select_title(user_inp)\n",
    "\n"
   ],
   "metadata": {
    "collapsed": false,
    "pycharm": {
     "name": "#%%\n"
    }
   }
  },
  {
   "cell_type": "code",
   "execution_count": 82,
   "outputs": [
    {
     "data": {
      "text/plain": "[('John Wick: Chapter 3 - Parabellum', 167, 0.4060103533960191),\n ('John Wick: Chapter 5', 2738, 0.33593550657351257),\n ('Now You See Me 2', 2013, 0.2836543144655877),\n ('John Wick', 404, 0.2799462554779272),\n ('John Wick: Chapter 2', 164, 0.27586206896551724),\n ('Fantastic Four: Rise of the Silver Surfer', 1807, 0.2456518422202587),\n ('The Gray Man', 638, 0.23973165074269204),\n ('Nameless Gangster', 6905, 0.23973165074269204),\n ('The Equalizer 3', 992, 0.2373222262672836)]"
     },
     "execution_count": 82,
     "metadata": {},
     "output_type": "execute_result"
    }
   ],
   "source": [
    "def similar_movies(mov_title):\n",
    "    movie_index = movies[movies['title'] == mov_title].index\n",
    "    list_of_sim = list(enumerate(sim[movie_index[0]]))\n",
    "    list_of_sim.sort(reverse=True, key=lambda e:e[1])\n",
    "\n",
    "    recommended_5 = [(movies.iloc[tpl[0]].title, *tpl) for tpl in list_of_sim[1:10]]\n",
    "    return recommended_5\n",
    "\n",
    "similar_movies('John Wick: Chapter 4')"
   ],
   "metadata": {
    "collapsed": false,
    "pycharm": {
     "name": "#%%\n"
    }
   }
  },
  {
   "cell_type": "code",
   "execution_count": 11,
   "outputs": [],
   "source": [
    "similar_10 = [('John Wick: Chapter 3 - Parabellum', 167, 0.4060103533960191),\n",
    " ('John Wick: Chapter 5', 2738, 0.33593550657351257),\n",
    " ('Now You See Me 2', 2013, 0.2836543144655877),\n",
    " ('John Wick', 404, 0.2799462554779272),\n",
    " ('John Wick: Chapter 2', 164, 0.27586206896551724),\n",
    " ('Fantastic Four: Rise of the Silver Surfer', 1807, 0.2456518422202587),\n",
    " ('The Gray Man', 638, 0.23973165074269204),\n",
    " ('Nameless Gangster', 6905, 0.23973165074269204),\n",
    " ('The Equalizer 3', 992, 0.2373222262672836)]"
   ],
   "metadata": {
    "collapsed": false,
    "pycharm": {
     "name": "#%%\n"
    }
   }
  },
  {
   "cell_type": "code",
   "execution_count": 25,
   "outputs": [
    {
     "name": "stdout",
     "output_type": "stream",
     "text": [
      "<b>🤖 Here are 10 movies that are similar in genre or theme🤖</b> \n",
      "\n",
      "\n",
      "John Wick: Chapter 3 - Parabellum  --> Score: 40.6% ⬆️️\n",
      "\n",
      "John Wick: Chapter 5  --> Score: 33.6% ↗️️\n",
      "\n",
      "Now You See Me 2  --> Score: 28.4% ↗️️\n",
      "\n",
      "John Wick  --> Score: 28.0% ↗️️\n",
      "\n",
      "John Wick: Chapter 2  --> Score: 27.6% ↗️️\n",
      "\n",
      "Fantastic Four: Rise of the Silver Surfer  --> Score: 24.6% ↗️️\n",
      "\n",
      "The Gray Man  --> Score: 24.0% ↗️️\n",
      "\n",
      "Nameless Gangster  --> Score: 24.0% ↗️️\n",
      "\n",
      "The Equalizer 3  --> Score: 23.7% ↗️️\n",
      "\n",
      "\n"
     ]
    }
   ],
   "source": [
    "response = ''\n",
    "for i, tpl in enumerate(similar_10, 2):\n",
    "    if tpl[2] > 0.4:\n",
    "        response += f'{tpl[0]}  --> Score: {round(tpl[2] * 100, 1)}% ⬆️️\\n\\n'\n",
    "    else:\n",
    "        response += f'{tpl[0]}  --> Score: {round(tpl[2] * 100, 1)}% ↗️️\\n\\n'\n",
    "print('<b>🤖 Here are 10 movies that are similar in genre or theme🤖</b> \\n\\n\\n' + response)\n"
   ],
   "metadata": {
    "collapsed": false,
    "pycharm": {
     "name": "#%%\n"
    }
   }
  },
  {
   "cell_type": "code",
   "execution_count": null,
   "outputs": [],
   "source": [],
   "metadata": {
    "collapsed": false,
    "pycharm": {
     "name": "#%%\n"
    }
   }
  }
 ],
 "metadata": {
  "kernelspec": {
   "display_name": "Python 3",
   "language": "python",
   "name": "python3"
  },
  "language_info": {
   "codemirror_mode": {
    "name": "ipython",
    "version": 2
   },
   "file_extension": ".py",
   "mimetype": "text/x-python",
   "name": "python",
   "nbconvert_exporter": "python",
   "pygments_lexer": "ipython2",
   "version": "2.7.6"
  }
 },
 "nbformat": 4,
 "nbformat_minor": 0
}